{
 "cells": [
  {
   "cell_type": "markdown",
   "metadata": {},
   "source": [
    "In this iPython notebook, we want to **add a feature to an existing dataset of features that is split up into files for each chromosome**. Provided below is an example for adding p300 to an existing dataset of 9 columns (8 histone marks and 1 binary TPM). The code depends on quicksect.py"
   ]
  },
  {
   "cell_type": "code",
   "execution_count": 1,
   "metadata": {
    "collapsed": true
   },
   "outputs": [],
   "source": [
    "import glob\n",
    "import pandas as pd\n",
    "import numpy as np"
   ]
  },
  {
   "cell_type": "markdown",
   "metadata": {},
   "source": [
    "<h3>Import data</h3>"
   ]
  },
  {
   "cell_type": "code",
   "execution_count": 2,
   "metadata": {
    "collapsed": true
   },
   "outputs": [],
   "source": [
    "def get_data(filename, chrom):\n",
    "    dat = pd.read_table(filename,skiprows=1)\n",
    "    nrows = dat.shape[0]\n",
    "    dat['chr'] = chrom\n",
    "    dat['lower'] = np.arange(1,200*(nrows),200)\n",
    "    dat['upper'] = np.arange(200,200*(nrows+1),200).reshape(nrows,1)\n",
    "    #dat.head()\n",
    "    return dat"
   ]
  },
  {
   "cell_type": "code",
   "execution_count": 28,
   "metadata": {
    "collapsed": false
   },
   "outputs": [
    {
     "data": {
      "text/html": [
       "<div style=\"max-height:1000px;max-width:1500px;overflow:auto;\">\n",
       "<table border=\"1\" class=\"dataframe\">\n",
       "  <thead>\n",
       "    <tr style=\"text-align: right;\">\n",
       "      <th></th>\n",
       "      <th>chr</th>\n",
       "      <th>lower</th>\n",
       "      <th>upper</th>\n",
       "    </tr>\n",
       "  </thead>\n",
       "  <tbody>\n",
       "    <tr>\n",
       "      <th>0</th>\n",
       "      <td> chr10</td>\n",
       "      <td> 100006601</td>\n",
       "      <td> 100006801</td>\n",
       "    </tr>\n",
       "    <tr>\n",
       "      <th>1</th>\n",
       "      <td> chr10</td>\n",
       "      <td> 100011001</td>\n",
       "      <td> 100011201</td>\n",
       "    </tr>\n",
       "    <tr>\n",
       "      <th>2</th>\n",
       "      <td> chr10</td>\n",
       "      <td> 100099401</td>\n",
       "      <td> 100099601</td>\n",
       "    </tr>\n",
       "    <tr>\n",
       "      <th>3</th>\n",
       "      <td> chr10</td>\n",
       "      <td> 100099601</td>\n",
       "      <td> 100099801</td>\n",
       "    </tr>\n",
       "    <tr>\n",
       "      <th>4</th>\n",
       "      <td> chr10</td>\n",
       "      <td> 100099801</td>\n",
       "      <td> 100100001</td>\n",
       "    </tr>\n",
       "  </tbody>\n",
       "</table>\n",
       "</div>"
      ],
      "text/plain": [
       "     chr      lower      upper\n",
       "0  chr10  100006601  100006801\n",
       "1  chr10  100011001  100011201\n",
       "2  chr10  100099401  100099601\n",
       "3  chr10  100099601  100099801\n",
       "4  chr10  100099801  100100001"
      ]
     },
     "execution_count": 28,
     "metadata": {},
     "output_type": "execute_result"
    }
   ],
   "source": [
    "p300 = pd.read_table('data/GM12878_distal_P300_align.hg19.txt.gz', compression = 'gzip', header=None)\n",
    "p300.columns = ['chr','lower']\n",
    "p300['upper'] = p300['lower']+200\n",
    "p300.head()"
   ]
  },
  {
   "cell_type": "markdown",
   "metadata": {},
   "source": [
    "<h3>Match overlapping intervals</h3>"
   ]
  },
  {
   "cell_type": "code",
   "execution_count": 29,
   "metadata": {
    "collapsed": false
   },
   "outputs": [
    {
     "name": "stdout",
     "output_type": "stream",
     "text": [
      "Spectacle/SAMPLEDATA_HG19_NEW/GM12878_chr10_binary_new.txt\n",
      "0    671279\n",
      "1      6394\n",
      "dtype: int64\n",
      "Spectacle/SAMPLEDATA_HG19_NEW/GM12878_chr11_binary_new.txt\n",
      "0    669375\n",
      "1      5657\n",
      "dtype: int64\n",
      "Spectacle/SAMPLEDATA_HG19_NEW/GM12878_chr12_binary_new.txt\n",
      "0    663439\n",
      "1      5820\n",
      "dtype: int64\n",
      "Spectacle/SAMPLEDATA_HG19_NEW/GM12878_chr13_binary_new.txt\n",
      "0    573521\n",
      "1      2328\n",
      "dtype: int64\n",
      "Spectacle/SAMPLEDATA_HG19_NEW/GM12878_chr14_binary_new.txt\n",
      "0    533193\n",
      "1      3554\n",
      "dtype: int64\n",
      "Spectacle/SAMPLEDATA_HG19_NEW/GM12878_chr15_binary_new.txt\n",
      "0    509108\n",
      "1      3548\n",
      "dtype: int64\n",
      "Spectacle/SAMPLEDATA_HG19_NEW/GM12878_chr16_binary_new.txt\n",
      "0    446652\n",
      "1      5121\n",
      "dtype: int64\n",
      "Spectacle/SAMPLEDATA_HG19_NEW/GM12878_chr17_binary_new.txt\n",
      "0    401075\n",
      "1      4901\n",
      "dtype: int64\n",
      "Spectacle/SAMPLEDATA_HG19_NEW/GM12878_chr18_binary_new.txt\n",
      "0    388021\n",
      "1      2365\n",
      "dtype: int64\n",
      "Spectacle/SAMPLEDATA_HG19_NEW/GM12878_chr19_binary_new.txt\n",
      "0    291474\n",
      "1      4170\n",
      "dtype: int64\n",
      "Spectacle/SAMPLEDATA_HG19_NEW/GM12878_chr1_binary_new.txt\n",
      "0    1235350\n",
      "1      10903\n",
      "dtype: int64\n",
      "Spectacle/SAMPLEDATA_HG19_NEW/GM12878_chr20_binary_new.txt\n",
      "0    311972\n",
      "1      3155\n",
      "dtype: int64\n",
      "Spectacle/SAMPLEDATA_HG19_NEW/GM12878_chr21_binary_new.txt\n",
      "0    238148\n",
      "1      2501\n",
      "dtype: int64\n",
      "Spectacle/SAMPLEDATA_HG19_NEW/GM12878_chr22_binary_new.txt\n",
      "0    254195\n",
      "1      2327\n",
      "dtype: int64\n",
      "Spectacle/SAMPLEDATA_HG19_NEW/GM12878_chr2_binary_new.txt\n",
      "0    1206821\n",
      "1       9175\n",
      "dtype: int64\n",
      "Spectacle/SAMPLEDATA_HG19_NEW/GM12878_chr3_binary_new.txt\n",
      "0    983141\n",
      "1      6971\n",
      "dtype: int64\n",
      "Spectacle/SAMPLEDATA_HG19_NEW/GM12878_chr4_binary_new.txt\n",
      "0    950695\n",
      "1      5076\n",
      "dtype: int64\n",
      "Spectacle/SAMPLEDATA_HG19_NEW/GM12878_chr5_binary_new.txt\n",
      "0    898335\n",
      "1      6241\n",
      "dtype: int64\n",
      "Spectacle/SAMPLEDATA_HG19_NEW/GM12878_chr6_binary_new.txt\n",
      "0    847722\n",
      "1      7853\n",
      "dtype: int64\n",
      "Spectacle/SAMPLEDATA_HG19_NEW/GM12878_chr7_binary_new.txt\n",
      "0    789488\n",
      "1      6205\n",
      "dtype: int64\n",
      "Spectacle/SAMPLEDATA_HG19_NEW/GM12878_chr8_binary_new.txt\n",
      "0    726749\n",
      "1      5071\n",
      "dtype: int64\n",
      "Spectacle/SAMPLEDATA_HG19_NEW/GM12878_chr9_binary_new.txt\n",
      "0    701520\n",
      "1      4547\n",
      "dtype: int64\n"
     ]
    }
   ],
   "source": [
    "import os \n",
    "files = glob.glob('Spectacle/SAMPLEDATA_HG19_NEW/*.txt') # create the list of file\n",
    "\n",
    "dats = []\n",
    "for filename in files:\n",
    "    print filename\n",
    "    chrom = os.path.split(filename)[1].split(\"_\")[1][3:] # get chromosome number from file name\n",
    "    dat = get_data(filename, chrom)     # Import existing dataset for chromosome number\n",
    "    p = p300[p300['chr']=='chr'+chrom]  # Select only rows with corresponding chromosome number\n",
    "    \n",
    "    # ========================================================================================\n",
    "    # Find overlapping intervals\n",
    "    query = zip(dat['lower'],dat['upper'])\n",
    "    data = zip(p['lower'],p['upper'])\n",
    "    \n",
    "    # Modified code from: https://www.biostars.org/p/99/\n",
    "    from random import randint, seed\n",
    "    from quicksect import IntervalNode\n",
    "    def find(start, end, tree):\n",
    "        #Finds a list with the overlapping intervals\n",
    "        out = []\n",
    "        tree.intersect( start, end, lambda x: out.append(x) )\n",
    "        return not not out\n",
    "        #return True if there is an intersection\n",
    "\n",
    "    # start the root at the first element\n",
    "    start, end = data[0]\n",
    "    tree = IntervalNode( start, end )\n",
    "\n",
    "    # build an interval tree from the rest of the data\n",
    "    for start, end in data[1:]:\n",
    "        tree = tree.insert( start, end )\n",
    "\n",
    "    overlap = []\n",
    "    for start, end in query:\n",
    "        overlap.append(find(start, end , tree))\n",
    "\n",
    "    dat['p300'] = map(int, overlap)\n",
    "    print dat['p300'].value_counts()\n",
    "    dats.append(dat)"
   ]
  },
  {
   "cell_type": "code",
   "execution_count": 31,
   "metadata": {
    "collapsed": false
   },
   "outputs": [],
   "source": [
    "result = pd.concat(dats)"
   ]
  },
  {
   "cell_type": "markdown",
   "metadata": {},
   "source": [
    "<h3>Write to output file</h3>"
   ]
  },
  {
   "cell_type": "code",
   "execution_count": 37,
   "metadata": {
    "collapsed": false
   },
   "outputs": [],
   "source": [
    "new_filename = \"features_data.txt\"\n",
    "with open(new_filename, 'w') as the_file:\n",
    "    result.to_csv(the_file, sep='\\t', index=False)\n",
    "result.head()"
   ]
  },
  {
   "cell_type": "code",
   "execution_count": 41,
   "metadata": {
    "collapsed": false
   },
   "outputs": [],
   "source": [
    "result = result.ix[:, [0,1,2,3,4,5,6,7,8,12]]"
   ]
  }
 ],
 "metadata": {
  "kernelspec": {
   "display_name": "Python 2",
   "language": "python",
   "name": "python2"
  },
  "language_info": {
   "codemirror_mode": {
    "name": "ipython",
    "version": 2
   },
   "file_extension": ".py",
   "mimetype": "text/x-python",
   "name": "python",
   "nbconvert_exporter": "python",
   "pygments_lexer": "ipython2",
   "version": "2.7.9"
  }
 },
 "nbformat": 4,
 "nbformat_minor": 0
}
