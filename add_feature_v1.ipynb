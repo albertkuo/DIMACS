{
 "cells": [
  {
   "cell_type": "markdown",
   "metadata": {},
   "source": [
    "In this iPython notebook, we want to **add a feature to an existing dataset of features that is split up into files for each chromosome**. Provided below is an example for adding p300 to an existing dataset of 9 columns (8 histone marks and 1 binary TPM). The code depends on quicksect.py"
   ]
  },
  {
   "cell_type": "code",
   "execution_count": 1,
   "metadata": {
    "collapsed": true
   },
   "outputs": [],
   "source": [
    "import glob\n",
    "import pandas as pd\n",
    "import numpy as np"
   ]
  },
  {
   "cell_type": "markdown",
   "metadata": {},
   "source": [
    "<h3>Import data</h3>"
   ]
  },
  {
   "cell_type": "code",
   "execution_count": null,
   "metadata": {
    "collapsed": true
   },
   "outputs": [],
   "source": [
    "CELLNAME = 'GM12878'"
   ]
  },
  {
   "cell_type": "code",
   "execution_count": 2,
   "metadata": {
    "collapsed": true
   },
   "outputs": [],
   "source": [
    "def get_data(filename, chrom):\n",
    "    dat = pd.read_table(filename,skiprows=1)\n",
    "    nrows = dat.shape[0]\n",
    "    dat['chr'] = chrom\n",
    "    dat['lower'] = np.arange(1,200*(nrows),200)\n",
    "    dat['upper'] = np.arange(200,200*(nrows+1),200).reshape(nrows,1)\n",
    "    #dat.head()\n",
    "    return dat"
   ]
  },
  {
   "cell_type": "code",
   "execution_count": 3,
   "metadata": {
    "collapsed": false
   },
   "outputs": [
    {
     "data": {
      "text/html": [
       "<div style=\"max-height:1000px;max-width:1500px;overflow:auto;\">\n",
       "<table border=\"1\" class=\"dataframe\">\n",
       "  <thead>\n",
       "    <tr style=\"text-align: right;\">\n",
       "      <th></th>\n",
       "      <th>chr</th>\n",
       "      <th>lower</th>\n",
       "      <th>upper</th>\n",
       "    </tr>\n",
       "  </thead>\n",
       "  <tbody>\n",
       "    <tr>\n",
       "      <th>0</th>\n",
       "      <td> chr10</td>\n",
       "      <td> 100082601</td>\n",
       "      <td> 100082801</td>\n",
       "    </tr>\n",
       "    <tr>\n",
       "      <th>1</th>\n",
       "      <td> chr10</td>\n",
       "      <td>  10008401</td>\n",
       "      <td>  10008601</td>\n",
       "    </tr>\n",
       "    <tr>\n",
       "      <th>2</th>\n",
       "      <td> chr10</td>\n",
       "      <td> 100121001</td>\n",
       "      <td> 100121201</td>\n",
       "    </tr>\n",
       "    <tr>\n",
       "      <th>3</th>\n",
       "      <td> chr10</td>\n",
       "      <td> 100139401</td>\n",
       "      <td> 100139601</td>\n",
       "    </tr>\n",
       "    <tr>\n",
       "      <th>4</th>\n",
       "      <td> chr10</td>\n",
       "      <td>  10018001</td>\n",
       "      <td>  10018201</td>\n",
       "    </tr>\n",
       "  </tbody>\n",
       "</table>\n",
       "</div>"
      ],
      "text/plain": [
       "     chr      lower      upper\n",
       "0  chr10  100082601  100082801\n",
       "1  chr10   10008401   10008601\n",
       "2  chr10  100121001  100121201\n",
       "3  chr10  100139401  100139601\n",
       "4  chr10   10018001   10018201"
      ]
     },
     "execution_count": 3,
     "metadata": {},
     "output_type": "execute_result"
    }
   ],
   "source": [
    "p300 = pd.read_table('data/'+CELLNAME'_distal_P300_align.hg19.txt.gz', compression = 'gzip', header=None)\n",
    "p300.columns = ['chr','lower']\n",
    "p300['upper'] = p300['lower']+200\n",
    "p300.head()"
   ]
  },
  {
   "cell_type": "markdown",
   "metadata": {},
   "source": [
    "<h3>Match overlapping intervals</h3>"
   ]
  },
  {
   "cell_type": "code",
   "execution_count": 4,
   "metadata": {
    "collapsed": false
   },
   "outputs": [
    {
     "name": "stdout",
     "output_type": "stream",
     "text": [
      "Spectacle/SAMPLEDATA_HG19_K562/K562_chr10_binary_TPM.txt\n",
      "0    668790\n",
      "1      8883\n",
      "dtype: int64\n",
      "Spectacle/SAMPLEDATA_HG19_K562/K562_chr11_binary_TPM.txt\n",
      "0    667960\n",
      "1      7072\n",
      "dtype: int64\n",
      "Spectacle/SAMPLEDATA_HG19_K562/K562_chr12_binary_TPM.txt\n",
      "0    662546\n",
      "1      6713\n",
      "dtype: int64\n",
      "Spectacle/SAMPLEDATA_HG19_K562/K562_chr13_binary_TPM.txt\n",
      "0    566697\n",
      "1      9152\n",
      "dtype: int64\n",
      "Spectacle/SAMPLEDATA_HG19_K562/K562_chr14_binary_TPM.txt\n",
      "0    535182\n",
      "1      1565\n",
      "dtype: int64\n",
      "Spectacle/SAMPLEDATA_HG19_K562/K562_chr15_binary_TPM.txt\n",
      "0    508173\n",
      "1      4483\n",
      "dtype: int64\n",
      "Spectacle/SAMPLEDATA_HG19_K562/K562_chr16_binary_TPM.txt\n",
      "0    447574\n",
      "1      4199\n",
      "dtype: int64\n",
      "Spectacle/SAMPLEDATA_HG19_K562/K562_chr17_binary_TPM.txt\n",
      "0    402083\n",
      "1      3893\n",
      "dtype: int64\n",
      "Spectacle/SAMPLEDATA_HG19_K562/K562_chr18_binary_TPM.txt\n",
      "0    385551\n",
      "1      4835\n",
      "dtype: int64\n",
      "Spectacle/SAMPLEDATA_HG19_K562/K562_chr19_binary_TPM.txt\n",
      "0    293348\n",
      "1      2296\n",
      "dtype: int64\n",
      "Spectacle/SAMPLEDATA_HG19_K562/K562_chr1_binary_TPM.txt\n",
      "0    1220362\n",
      "1      25891\n",
      "dtype: int64\n",
      "Spectacle/SAMPLEDATA_HG19_K562/K562_chr20_binary_TPM.txt\n",
      "0    312990\n",
      "1      2137\n",
      "dtype: int64\n",
      "Spectacle/SAMPLEDATA_HG19_K562/K562_chr21_binary_TPM.txt\n",
      "0    236708\n",
      "1      3941\n",
      "dtype: int64\n",
      "Spectacle/SAMPLEDATA_HG19_K562/K562_chr22_binary_TPM.txt\n",
      "0    249291\n",
      "1      7231\n",
      "dtype: int64\n",
      "Spectacle/SAMPLEDATA_HG19_K562/K562_chr2_binary_TPM.txt\n",
      "0    1200778\n",
      "1      15218\n",
      "dtype: int64\n",
      "Spectacle/SAMPLEDATA_HG19_K562/K562_chr3_binary_TPM.txt\n",
      "0    978371\n",
      "1     11741\n",
      "dtype: int64\n",
      "Spectacle/SAMPLEDATA_HG19_K562/K562_chr4_binary_TPM.txt\n",
      "0    945529\n",
      "1     10242\n",
      "dtype: int64\n",
      "Spectacle/SAMPLEDATA_HG19_K562/K562_chr5_binary_TPM.txt\n",
      "0    892470\n",
      "1     12106\n",
      "dtype: int64\n",
      "Spectacle/SAMPLEDATA_HG19_K562/K562_chr6_binary_TPM.txt\n",
      "0    837318\n",
      "1     18257\n",
      "dtype: int64\n",
      "Spectacle/SAMPLEDATA_HG19_K562/K562_chr7_binary_TPM.txt\n",
      "0    774237\n",
      "1     21456\n",
      "dtype: int64\n",
      "Spectacle/SAMPLEDATA_HG19_K562/K562_chr8_binary_TPM.txt\n",
      "0    724384\n",
      "1      7436\n",
      "dtype: int64\n",
      "Spectacle/SAMPLEDATA_HG19_K562/K562_chr9_binary_TPM.txt\n",
      "0    700616\n",
      "1      5451\n",
      "dtype: int64\n"
     ]
    }
   ],
   "source": [
    "import os \n",
    "files = glob.glob('Spectacle/SAMPLEDATA_HG19_'+CELLNAME+'/*.txt') # create the list of file\n",
    "\n",
    "dats = []\n",
    "for filename in files:\n",
    "    print filename\n",
    "    chrom = os.path.split(filename)[1].split(\"_\")[1][3:] # get chromosome number from file name\n",
    "    dat = get_data(filename, chrom)     # Import existing dataset for chromosome number\n",
    "    p = p300[p300['chr']=='chr'+chrom]  # Select only rows with corresponding chromosome number\n",
    "    \n",
    "    # Find overlapping intervals\n",
    "    query = zip(dat['lower'],dat['upper'])\n",
    "    data = zip(p['lower'],p['upper'])\n",
    "    \n",
    "    # Modified code from: https://www.biostars.org/p/99/\n",
    "    from random import randint, seed\n",
    "    from quicksect import IntervalNode\n",
    "    def find(start, end, tree):\n",
    "        #Finds a list with the overlapping intervals\n",
    "        out = []\n",
    "        tree.intersect( start, end, lambda x: out.append(x) )\n",
    "        return int(not not out) #return 1 if there is an intersection\n",
    "\n",
    "    # start the root at the first element\n",
    "    start, end = data[0]\n",
    "    tree = IntervalNode( start, end )\n",
    "\n",
    "    # build an interval tree from the rest of the data\n",
    "    for start, end in data[1:]:\n",
    "        tree = tree.insert( start, end )\n",
    "\n",
    "    overlap = []\n",
    "    for start, end in query:\n",
    "        overlap.append(find(start, end , tree))\n",
    "\n",
    "    dat['p300'] = overlap\n",
    "    print dat['p300'].value_counts()\n",
    "    dats.append(dat)"
   ]
  },
  {
   "cell_type": "code",
   "execution_count": 5,
   "metadata": {
    "collapsed": false
   },
   "outputs": [],
   "source": [
    "result = pd.concat(dats)\n",
    "result = result.ix[:, [9,10,11,0,1,2,3,4,5,6,7,8,12]] #rearrange columns"
   ]
  },
  {
   "cell_type": "markdown",
   "metadata": {},
   "source": [
    "<h3>Write to output file</h3>"
   ]
  },
  {
   "cell_type": "code",
   "execution_count": 6,
   "metadata": {
    "collapsed": false
   },
   "outputs": [
    {
     "data": {
      "text/html": [
       "<div style=\"max-height:1000px;max-width:1500px;overflow:auto;\">\n",
       "<table border=\"1\" class=\"dataframe\">\n",
       "  <thead>\n",
       "    <tr style=\"text-align: right;\">\n",
       "      <th></th>\n",
       "      <th>H3K27ac</th>\n",
       "      <th>H3K27me3</th>\n",
       "      <th>H3K36me3</th>\n",
       "      <th>H3K4me1</th>\n",
       "      <th>H3K4me2</th>\n",
       "      <th>H3K4me3</th>\n",
       "      <th>H3K9ac</th>\n",
       "      <th>H4K20me1</th>\n",
       "      <th>TPM</th>\n",
       "      <th>chr</th>\n",
       "      <th>lower</th>\n",
       "      <th>upper</th>\n",
       "      <th>p300</th>\n",
       "    </tr>\n",
       "  </thead>\n",
       "  <tbody>\n",
       "    <tr>\n",
       "      <th>0</th>\n",
       "      <td> 0</td>\n",
       "      <td> 0</td>\n",
       "      <td> 0</td>\n",
       "      <td> 0</td>\n",
       "      <td> 0</td>\n",
       "      <td> 0</td>\n",
       "      <td> 0</td>\n",
       "      <td> 0</td>\n",
       "      <td> 0</td>\n",
       "      <td> 10</td>\n",
       "      <td>   1</td>\n",
       "      <td>  200</td>\n",
       "      <td> 0</td>\n",
       "    </tr>\n",
       "    <tr>\n",
       "      <th>1</th>\n",
       "      <td> 0</td>\n",
       "      <td> 0</td>\n",
       "      <td> 0</td>\n",
       "      <td> 0</td>\n",
       "      <td> 0</td>\n",
       "      <td> 0</td>\n",
       "      <td> 0</td>\n",
       "      <td> 0</td>\n",
       "      <td> 0</td>\n",
       "      <td> 10</td>\n",
       "      <td> 201</td>\n",
       "      <td>  400</td>\n",
       "      <td> 0</td>\n",
       "    </tr>\n",
       "    <tr>\n",
       "      <th>2</th>\n",
       "      <td> 0</td>\n",
       "      <td> 0</td>\n",
       "      <td> 0</td>\n",
       "      <td> 0</td>\n",
       "      <td> 0</td>\n",
       "      <td> 0</td>\n",
       "      <td> 0</td>\n",
       "      <td> 0</td>\n",
       "      <td> 0</td>\n",
       "      <td> 10</td>\n",
       "      <td> 401</td>\n",
       "      <td>  600</td>\n",
       "      <td> 0</td>\n",
       "    </tr>\n",
       "    <tr>\n",
       "      <th>3</th>\n",
       "      <td> 0</td>\n",
       "      <td> 0</td>\n",
       "      <td> 0</td>\n",
       "      <td> 0</td>\n",
       "      <td> 0</td>\n",
       "      <td> 0</td>\n",
       "      <td> 0</td>\n",
       "      <td> 0</td>\n",
       "      <td> 0</td>\n",
       "      <td> 10</td>\n",
       "      <td> 601</td>\n",
       "      <td>  800</td>\n",
       "      <td> 0</td>\n",
       "    </tr>\n",
       "    <tr>\n",
       "      <th>4</th>\n",
       "      <td> 0</td>\n",
       "      <td> 0</td>\n",
       "      <td> 0</td>\n",
       "      <td> 0</td>\n",
       "      <td> 0</td>\n",
       "      <td> 0</td>\n",
       "      <td> 0</td>\n",
       "      <td> 0</td>\n",
       "      <td> 0</td>\n",
       "      <td> 10</td>\n",
       "      <td> 801</td>\n",
       "      <td> 1000</td>\n",
       "      <td> 0</td>\n",
       "    </tr>\n",
       "  </tbody>\n",
       "</table>\n",
       "</div>"
      ],
      "text/plain": [
       "   H3K27ac  H3K27me3  H3K36me3  H3K4me1  H3K4me2  H3K4me3  H3K9ac  H4K20me1  \\\n",
       "0        0         0         0        0        0        0       0         0   \n",
       "1        0         0         0        0        0        0       0         0   \n",
       "2        0         0         0        0        0        0       0         0   \n",
       "3        0         0         0        0        0        0       0         0   \n",
       "4        0         0         0        0        0        0       0         0   \n",
       "\n",
       "   TPM chr  lower  upper  p300  \n",
       "0    0  10      1    200     0  \n",
       "1    0  10    201    400     0  \n",
       "2    0  10    401    600     0  \n",
       "3    0  10    601    800     0  \n",
       "4    0  10    801   1000     0  "
      ]
     },
     "execution_count": 6,
     "metadata": {},
     "output_type": "execute_result"
    }
   ],
   "source": [
    "new_filename = CELLNAME+\"_features.txt\"\n",
    "with open(new_filename, 'w') as the_file:\n",
    "    result.to_csv(the_file, sep='\\t', index=False)\n",
    "result.head()"
   ]
  }
 ],
 "metadata": {
  "kernelspec": {
   "display_name": "Python 2",
   "language": "python",
   "name": "python2"
  },
  "language_info": {
   "codemirror_mode": {
    "name": "ipython",
    "version": 2
   },
   "file_extension": ".py",
   "mimetype": "text/x-python",
   "name": "python",
   "nbconvert_exporter": "python",
   "pygments_lexer": "ipython2",
   "version": "2.7.9"
  }
 },
 "nbformat": 4,
 "nbformat_minor": 0
}
