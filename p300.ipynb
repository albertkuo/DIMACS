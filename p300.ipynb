{
 "cells": [
  {
   "cell_type": "markdown",
   "metadata": {},
   "source": [
    "In this iPython notebook, I looked at the **p300 overlap** for selected states."
   ]
  },
  {
   "cell_type": "code",
   "execution_count": 2,
   "metadata": {
    "collapsed": true
   },
   "outputs": [],
   "source": [
    "import pandas as pd"
   ]
  },
  {
   "cell_type": "code",
   "execution_count": 3,
   "metadata": {
    "collapsed": false
   },
   "outputs": [
    {
     "data": {
      "text/html": [
       "<div style=\"max-height:1000px;max-width:1500px;overflow:auto;\">\n",
       "<table border=\"1\" class=\"dataframe\">\n",
       "  <thead>\n",
       "    <tr style=\"text-align: right;\">\n",
       "      <th></th>\n",
       "      <th>chr</th>\n",
       "      <th>lower</th>\n",
       "      <th>upper</th>\n",
       "      <th>state</th>\n",
       "    </tr>\n",
       "  </thead>\n",
       "  <tbody>\n",
       "    <tr>\n",
       "      <th>0</th>\n",
       "      <td> chr10</td>\n",
       "      <td>      0</td>\n",
       "      <td> 119800</td>\n",
       "      <td> E18</td>\n",
       "    </tr>\n",
       "    <tr>\n",
       "      <th>1</th>\n",
       "      <td> chr10</td>\n",
       "      <td> 119800</td>\n",
       "      <td> 120400</td>\n",
       "      <td> E11</td>\n",
       "    </tr>\n",
       "    <tr>\n",
       "      <th>2</th>\n",
       "      <td> chr10</td>\n",
       "      <td> 120400</td>\n",
       "      <td> 122200</td>\n",
       "      <td> E18</td>\n",
       "    </tr>\n",
       "    <tr>\n",
       "      <th>3</th>\n",
       "      <td> chr10</td>\n",
       "      <td> 122200</td>\n",
       "      <td> 122800</td>\n",
       "      <td> E11</td>\n",
       "    </tr>\n",
       "    <tr>\n",
       "      <th>4</th>\n",
       "      <td> chr10</td>\n",
       "      <td> 122800</td>\n",
       "      <td> 173400</td>\n",
       "      <td> E18</td>\n",
       "    </tr>\n",
       "  </tbody>\n",
       "</table>\n",
       "</div>"
      ],
      "text/plain": [
       "     chr   lower   upper state\n",
       "0  chr10       0  119800   E18\n",
       "1  chr10  119800  120400   E11\n",
       "2  chr10  120400  122200   E18\n",
       "3  chr10  122200  122800   E11\n",
       "4  chr10  122800  173400   E18"
      ]
     },
     "execution_count": 3,
     "metadata": {},
     "output_type": "execute_result"
    }
   ],
   "source": [
    "es = pd.read_table('Spectacle/OUTPUTSAMPLE_HG19_NEW/GM12878_20_spectral_segments.bed',header=None)\n",
    "es.columns = ['chr','lower','upper','state']\n",
    "es.head()"
   ]
  },
  {
   "cell_type": "code",
   "execution_count": 21,
   "metadata": {
    "collapsed": false
   },
   "outputs": [],
   "source": [
    "es['chr']=es['chr'].str[3:]"
   ]
  },
  {
   "cell_type": "code",
   "execution_count": 136,
   "metadata": {
    "collapsed": false
   },
   "outputs": [],
   "source": [
    "es1 = es[es['state']=='E1'] # Select only rows in state 1"
   ]
  },
  {
   "cell_type": "code",
   "execution_count": 137,
   "metadata": {
    "collapsed": false
   },
   "outputs": [],
   "source": [
    "es2 = es[es['state']=='E2'] # Select only rows in state 1"
   ]
  },
  {
   "cell_type": "code",
   "execution_count": 138,
   "metadata": {
    "collapsed": false
   },
   "outputs": [],
   "source": [
    "es20 = es[es['state']=='E20'] # Select only rows in state 20"
   ]
  },
  {
   "cell_type": "code",
   "execution_count": 7,
   "metadata": {
    "collapsed": false
   },
   "outputs": [
    {
     "data": {
      "text/html": [
       "<div style=\"max-height:1000px;max-width:1500px;overflow:auto;\">\n",
       "<table border=\"1\" class=\"dataframe\">\n",
       "  <thead>\n",
       "    <tr style=\"text-align: right;\">\n",
       "      <th></th>\n",
       "      <th>chr</th>\n",
       "      <th>lower</th>\n",
       "      <th>upper</th>\n",
       "      <th>state</th>\n",
       "    </tr>\n",
       "  </thead>\n",
       "  <tbody>\n",
       "    <tr>\n",
       "      <th>13 </th>\n",
       "      <td> chr10</td>\n",
       "      <td>  179200</td>\n",
       "      <td>  179800</td>\n",
       "      <td> E20</td>\n",
       "    </tr>\n",
       "    <tr>\n",
       "      <th>156</th>\n",
       "      <td> chr10</td>\n",
       "      <td>  958200</td>\n",
       "      <td>  958600</td>\n",
       "      <td> E20</td>\n",
       "    </tr>\n",
       "    <tr>\n",
       "      <th>298</th>\n",
       "      <td> chr10</td>\n",
       "      <td> 1541000</td>\n",
       "      <td> 1542000</td>\n",
       "      <td> E20</td>\n",
       "    </tr>\n",
       "    <tr>\n",
       "      <th>320</th>\n",
       "      <td> chr10</td>\n",
       "      <td> 1698600</td>\n",
       "      <td> 1699200</td>\n",
       "      <td> E20</td>\n",
       "    </tr>\n",
       "    <tr>\n",
       "      <th>376</th>\n",
       "      <td> chr10</td>\n",
       "      <td> 2159800</td>\n",
       "      <td> 2160200</td>\n",
       "      <td> E20</td>\n",
       "    </tr>\n",
       "  </tbody>\n",
       "</table>\n",
       "</div>"
      ],
      "text/plain": [
       "       chr    lower    upper state\n",
       "13   chr10   179200   179800   E20\n",
       "156  chr10   958200   958600   E20\n",
       "298  chr10  1541000  1542000   E20\n",
       "320  chr10  1698600  1699200   E20\n",
       "376  chr10  2159800  2160200   E20"
      ]
     },
     "execution_count": 7,
     "metadata": {},
     "output_type": "execute_result"
    }
   ],
   "source": [
    "groups_state = dict(list(es.groupby('state')))\n",
    "groups_state['E20'].head()"
   ]
  },
  {
   "cell_type": "code",
   "execution_count": 8,
   "metadata": {
    "collapsed": false
   },
   "outputs": [
    {
     "data": {
      "text/html": [
       "<div style=\"max-height:1000px;max-width:1500px;overflow:auto;\">\n",
       "<table border=\"1\" class=\"dataframe\">\n",
       "  <thead>\n",
       "    <tr style=\"text-align: right;\">\n",
       "      <th></th>\n",
       "      <th>chr</th>\n",
       "      <th>lower</th>\n",
       "      <th>upper</th>\n",
       "    </tr>\n",
       "  </thead>\n",
       "  <tbody>\n",
       "    <tr>\n",
       "      <th>0</th>\n",
       "      <td> chr10</td>\n",
       "      <td> 100006601</td>\n",
       "      <td> 100006801</td>\n",
       "    </tr>\n",
       "    <tr>\n",
       "      <th>1</th>\n",
       "      <td> chr10</td>\n",
       "      <td> 100011001</td>\n",
       "      <td> 100011201</td>\n",
       "    </tr>\n",
       "    <tr>\n",
       "      <th>2</th>\n",
       "      <td> chr10</td>\n",
       "      <td> 100099401</td>\n",
       "      <td> 100099601</td>\n",
       "    </tr>\n",
       "    <tr>\n",
       "      <th>3</th>\n",
       "      <td> chr10</td>\n",
       "      <td> 100099601</td>\n",
       "      <td> 100099801</td>\n",
       "    </tr>\n",
       "    <tr>\n",
       "      <th>4</th>\n",
       "      <td> chr10</td>\n",
       "      <td> 100099801</td>\n",
       "      <td> 100100001</td>\n",
       "    </tr>\n",
       "  </tbody>\n",
       "</table>\n",
       "</div>"
      ],
      "text/plain": [
       "     chr      lower      upper\n",
       "0  chr10  100006601  100006801\n",
       "1  chr10  100011001  100011201\n",
       "2  chr10  100099401  100099601\n",
       "3  chr10  100099601  100099801\n",
       "4  chr10  100099801  100100001"
      ]
     },
     "execution_count": 8,
     "metadata": {},
     "output_type": "execute_result"
    }
   ],
   "source": [
    "p300 = pd.read_table('GM12878_distal_P300_align.hg19.txt.gz', compression = 'gzip', header=None)\n",
    "p300.columns = ['chr','lower']\n",
    "p300['upper'] = p300['lower']+200\n",
    "p300.head()"
   ]
  },
  {
   "cell_type": "code",
   "execution_count": 15,
   "metadata": {
    "collapsed": false
   },
   "outputs": [
    {
     "name": "stdout",
     "output_type": "stream",
     "text": [
      "E1\n",
      "0    1162\n",
      "1     755\n",
      "dtype: int64\n",
      "E2\n",
      "1    3297\n",
      "0    1494\n",
      "dtype: int64\n",
      "E3\n",
      "1    6463\n",
      "0    6163\n",
      "dtype: int64\n",
      "E4\n",
      "0    9590\n",
      "1    6158\n",
      "dtype: int64\n",
      "E5\n",
      "0    15880\n",
      "1     5991\n",
      "dtype: int64\n",
      "E6\n",
      "0    7715\n",
      "1    1438\n",
      "dtype: int64\n",
      "E12\n",
      "0    27260\n",
      "1     7002\n",
      "dtype: int64\n",
      "E13\n",
      "0    68777\n",
      "1     9700\n",
      "dtype: int64\n",
      "E14\n",
      "0    6963\n",
      "1    1571\n",
      "dtype: int64\n",
      "E20\n",
      "0    4027\n",
      "1     454\n",
      "dtype: int64\n"
     ]
    }
   ],
   "source": [
    "from random import randint, seed\n",
    "from quicksect import IntervalNode\n",
    "\n",
    "state_names = ['E1','E2','E3','E4','E5','E6','E12','E13','E14','E20']\n",
    "for state_name in state_names:\n",
    "    print state_name\n",
    "    group_state = groups_state[state_name]\n",
    "    groups = group_state.groupby('chr')  \n",
    "    for name, group in groups:\n",
    "        p = p300[p300['chr']==name]\n",
    "        query = zip(group['lower'],group['upper'])\n",
    "        data = zip(p['lower'],p['upper'])\n",
    "\n",
    "        #Code taken from: https://www.biostars.org/p/99/\n",
    "\n",
    "        def find(start, end, tree):\n",
    "            \"Returns a list with the overlapping intervals\"\n",
    "            out = []\n",
    "            tree.intersect( start, end, lambda x: out.append(x) )\n",
    "            return not not out\n",
    "            #return True if there is an intersection\n",
    "\n",
    "        # start the root at the first element\n",
    "        start, end = data[0]\n",
    "        tree = IntervalNode( start, end )\n",
    "\n",
    "        # build an interval tree from the rest of the data\n",
    "        for start, end in data[1:]:\n",
    "            tree = tree.insert( start, end )\n",
    "\n",
    "        overlap = []\n",
    "        for start, end in query:\n",
    "            overlap.append(find(start, end , tree))\n",
    "\n",
    "        group_state.loc[group_state['chr']==name, 'p300'] = map(int,overlap) \n",
    "    \n",
    "    print group_state['p300'].value_counts()\n",
    "    # Write file\n",
    "    new_filename = \"GM12878_\"+state_name+\".txt\"\n",
    "    with open(new_filename, 'w') as the_file:\n",
    "        group_state.to_csv(the_file, sep='\\t', index=False)"
   ]
  },
  {
   "cell_type": "code",
   "execution_count": 16,
   "metadata": {
    "collapsed": false
   },
   "outputs": [
    {
     "data": {
      "text/html": [
       "<div style=\"max-height:1000px;max-width:1500px;overflow:auto;\">\n",
       "<table border=\"1\" class=\"dataframe\">\n",
       "  <thead>\n",
       "    <tr style=\"text-align: right;\">\n",
       "      <th></th>\n",
       "      <th>chr</th>\n",
       "      <th>lower</th>\n",
       "      <th>upper</th>\n",
       "      <th>state</th>\n",
       "      <th>p300</th>\n",
       "    </tr>\n",
       "  </thead>\n",
       "  <tbody>\n",
       "    <tr>\n",
       "      <th>13 </th>\n",
       "      <td> chr10</td>\n",
       "      <td>  179200</td>\n",
       "      <td>  179800</td>\n",
       "      <td> E20</td>\n",
       "      <td> 0</td>\n",
       "    </tr>\n",
       "    <tr>\n",
       "      <th>156</th>\n",
       "      <td> chr10</td>\n",
       "      <td>  958200</td>\n",
       "      <td>  958600</td>\n",
       "      <td> E20</td>\n",
       "      <td> 0</td>\n",
       "    </tr>\n",
       "    <tr>\n",
       "      <th>298</th>\n",
       "      <td> chr10</td>\n",
       "      <td> 1541000</td>\n",
       "      <td> 1542000</td>\n",
       "      <td> E20</td>\n",
       "      <td> 1</td>\n",
       "    </tr>\n",
       "    <tr>\n",
       "      <th>320</th>\n",
       "      <td> chr10</td>\n",
       "      <td> 1698600</td>\n",
       "      <td> 1699200</td>\n",
       "      <td> E20</td>\n",
       "      <td> 0</td>\n",
       "    </tr>\n",
       "    <tr>\n",
       "      <th>376</th>\n",
       "      <td> chr10</td>\n",
       "      <td> 2159800</td>\n",
       "      <td> 2160200</td>\n",
       "      <td> E20</td>\n",
       "      <td> 0</td>\n",
       "    </tr>\n",
       "  </tbody>\n",
       "</table>\n",
       "</div>"
      ],
      "text/plain": [
       "       chr    lower    upper state  p300\n",
       "13   chr10   179200   179800   E20     0\n",
       "156  chr10   958200   958600   E20     0\n",
       "298  chr10  1541000  1542000   E20     1\n",
       "320  chr10  1698600  1699200   E20     0\n",
       "376  chr10  2159800  2160200   E20     0"
      ]
     },
     "execution_count": 16,
     "metadata": {},
     "output_type": "execute_result"
    }
   ],
   "source": [
    "groups_state['E20'].head()"
   ]
  },
  {
   "cell_type": "code",
   "execution_count": null,
   "metadata": {
    "collapsed": true
   },
   "outputs": [],
   "source": []
  }
 ],
 "metadata": {
  "kernelspec": {
   "display_name": "Python 2",
   "language": "python",
   "name": "python2"
  },
  "language_info": {
   "codemirror_mode": {
    "name": "ipython",
    "version": 2
   },
   "file_extension": ".py",
   "mimetype": "text/x-python",
   "name": "python",
   "nbconvert_exporter": "python",
   "pygments_lexer": "ipython2",
   "version": "2.7.9"
  }
 },
 "nbformat": 4,
 "nbformat_minor": 0
}
