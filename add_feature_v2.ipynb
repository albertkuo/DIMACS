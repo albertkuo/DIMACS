{
 "cells": [
  {
   "cell_type": "markdown",
   "metadata": {},
   "source": [
    "In this iPython notebook, we want to **add a feature to an existing dataset of features contained in one text file**. Provided below is an example of for adding tfbs to an existing dataset of 10 columns (8 histone marks, 1 TPM, and 1 p300). The output file is the same format as the input file. The code depends on quicksect.py"
   ]
  },
  {
   "cell_type": "code",
   "execution_count": 1,
   "metadata": {
    "collapsed": true
   },
   "outputs": [],
   "source": [
    "import pandas as pd\n",
    "import numpy as np"
   ]
  },
  {
   "cell_type": "markdown",
   "metadata": {},
   "source": [
    "<h3>Import data</h3>"
   ]
  },
  {
   "cell_type": "code",
   "execution_count": 2,
   "metadata": {
    "collapsed": true
   },
   "outputs": [],
   "source": [
    "CELLNAME = 'GM12878'"
   ]
  },
  {
   "cell_type": "code",
   "execution_count": 10,
   "metadata": {
    "collapsed": false
   },
   "outputs": [
    {
     "data": {
      "text/html": [
       "<div style=\"max-height:1000px;max-width:1500px;overflow:auto;\">\n",
       "<table border=\"1\" class=\"dataframe\">\n",
       "  <thead>\n",
       "    <tr style=\"text-align: right;\">\n",
       "      <th></th>\n",
       "      <th>bin</th>\n",
       "      <th>chrom</th>\n",
       "      <th>chromStart</th>\n",
       "      <th>chromEnd</th>\n",
       "      <th>name</th>\n",
       "      <th>score</th>\n",
       "      <th>strand</th>\n",
       "      <th>zScore</th>\n",
       "    </tr>\n",
       "  </thead>\n",
       "  <tbody>\n",
       "    <tr>\n",
       "      <th>0</th>\n",
       "      <td> 591</td>\n",
       "      <td> chr1</td>\n",
       "      <td> 894640</td>\n",
       "      <td> 894654</td>\n",
       "      <td> V$P300_01</td>\n",
       "      <td> 842</td>\n",
       "      <td> -</td>\n",
       "      <td> 1.68</td>\n",
       "    </tr>\n",
       "    <tr>\n",
       "      <th>1</th>\n",
       "      <td> 591</td>\n",
       "      <td> chr1</td>\n",
       "      <td> 894641</td>\n",
       "      <td> 894657</td>\n",
       "      <td> V$ELK1_01</td>\n",
       "      <td> 898</td>\n",
       "      <td> -</td>\n",
       "      <td> 2.70</td>\n",
       "    </tr>\n",
       "  </tbody>\n",
       "</table>\n",
       "</div>"
      ],
      "text/plain": [
       "   bin chrom  chromStart  chromEnd       name  score strand  zScore\n",
       "0  591  chr1      894640    894654  V$P300_01    842      -    1.68\n",
       "1  591  chr1      894641    894657  V$ELK1_01    898      -    2.70"
      ]
     },
     "execution_count": 10,
     "metadata": {},
     "output_type": "execute_result"
    }
   ],
   "source": [
    "tfbs = pd.read_table('data/tfbs/tfbsConsSites.txt.gz', compression = 'gzip', header=None)\n",
    "tfbs.columns = ['bin','chrom','chromStart','chromEnd','name','score','strand','zScore']\n",
    "tfbs.head(2)"
   ]
  },
  {
   "cell_type": "code",
   "execution_count": 8,
   "metadata": {
    "collapsed": false
   },
   "outputs": [
    {
     "data": {
      "text/html": [
       "<div style=\"max-height:1000px;max-width:1500px;overflow:auto;\">\n",
       "<table border=\"1\" class=\"dataframe\">\n",
       "  <thead>\n",
       "    <tr style=\"text-align: right;\">\n",
       "      <th></th>\n",
       "      <th>chr</th>\n",
       "      <th>lower</th>\n",
       "      <th>upper</th>\n",
       "    </tr>\n",
       "  </thead>\n",
       "  <tbody>\n",
       "    <tr>\n",
       "      <th>0</th>\n",
       "      <td> chr1</td>\n",
       "      <td> 894640</td>\n",
       "      <td> 894654</td>\n",
       "    </tr>\n",
       "    <tr>\n",
       "      <th>1</th>\n",
       "      <td> chr1</td>\n",
       "      <td> 894641</td>\n",
       "      <td> 894657</td>\n",
       "    </tr>\n",
       "  </tbody>\n",
       "</table>\n",
       "</div>"
      ],
      "text/plain": [
       "    chr   lower   upper\n",
       "0  chr1  894640  894654\n",
       "1  chr1  894641  894657"
      ]
     },
     "execution_count": 8,
     "metadata": {},
     "output_type": "execute_result"
    }
   ],
   "source": [
    "df_add = tfbs.ix[:, [1,2,3]]\n",
    "df_add.columns = ['chr','lower','upper']\n",
    "df_add.head(2)"
   ]
  },
  {
   "cell_type": "code",
   "execution_count": 5,
   "metadata": {
    "collapsed": false
   },
   "outputs": [
    {
     "data": {
      "text/html": [
       "<div style=\"max-height:1000px;max-width:1500px;overflow:auto;\">\n",
       "<table border=\"1\" class=\"dataframe\">\n",
       "  <thead>\n",
       "    <tr style=\"text-align: right;\">\n",
       "      <th></th>\n",
       "      <th>chr</th>\n",
       "      <th>lower</th>\n",
       "      <th>upper</th>\n",
       "      <th>H3K27ac</th>\n",
       "      <th>H3K27me3</th>\n",
       "      <th>H3K36me3</th>\n",
       "      <th>H3K4me1</th>\n",
       "      <th>H3K4me2</th>\n",
       "      <th>H3K4me3</th>\n",
       "      <th>H3K9ac</th>\n",
       "      <th>H4K20me1</th>\n",
       "      <th>p300</th>\n",
       "      <th>eRNA</th>\n",
       "      <th>tfbs</th>\n",
       "    </tr>\n",
       "  </thead>\n",
       "  <tbody>\n",
       "    <tr>\n",
       "      <th>0</th>\n",
       "      <td> 1</td>\n",
       "      <td>   1</td>\n",
       "      <td> 200</td>\n",
       "      <td> 0</td>\n",
       "      <td> 0</td>\n",
       "      <td> 0</td>\n",
       "      <td> 0</td>\n",
       "      <td> 0</td>\n",
       "      <td> 0</td>\n",
       "      <td> 0</td>\n",
       "      <td> 0</td>\n",
       "      <td> 0</td>\n",
       "      <td> 0</td>\n",
       "      <td> 0</td>\n",
       "    </tr>\n",
       "    <tr>\n",
       "      <th>1</th>\n",
       "      <td> 1</td>\n",
       "      <td> 201</td>\n",
       "      <td> 400</td>\n",
       "      <td> 0</td>\n",
       "      <td> 0</td>\n",
       "      <td> 0</td>\n",
       "      <td> 0</td>\n",
       "      <td> 0</td>\n",
       "      <td> 0</td>\n",
       "      <td> 0</td>\n",
       "      <td> 0</td>\n",
       "      <td> 0</td>\n",
       "      <td> 0</td>\n",
       "      <td> 0</td>\n",
       "    </tr>\n",
       "  </tbody>\n",
       "</table>\n",
       "</div>"
      ],
      "text/plain": [
       "   chr  lower  upper  H3K27ac  H3K27me3  H3K36me3  H3K4me1  H3K4me2  H3K4me3  \\\n",
       "0    1      1    200        0         0         0        0        0        0   \n",
       "1    1    201    400        0         0         0        0        0        0   \n",
       "\n",
       "   H3K9ac  H4K20me1  p300  eRNA  tfbs  \n",
       "0       0         0     0     0     0  \n",
       "1       0         0     0     0     0  "
      ]
     },
     "execution_count": 5,
     "metadata": {},
     "output_type": "execute_result"
    }
   ],
   "source": [
    "features_data = pd.read_table('data/'+CELLNAME+'_features.txt.gz', compression='gzip')\n",
    "features_data.head(2)"
   ]
  },
  {
   "cell_type": "markdown",
   "metadata": {},
   "source": [
    "<h3>Match intervals</h3>"
   ]
  },
  {
   "cell_type": "code",
   "execution_count": 11,
   "metadata": {
    "collapsed": false
   },
   "outputs": [
    {
     "name": "stdout",
     "output_type": "stream",
     "text": [
      "Chromosome 1\n",
      "0    1068307\n",
      "1     177946\n",
      "dtype: int64\n",
      "Chromosome 2\n",
      "0    1032127\n",
      "1     183869\n",
      "dtype: int64\n",
      "Chromosome 3\n",
      "0    836544\n",
      "1    153568\n",
      "dtype: int64\n",
      "Chromosome 4\n",
      "0    831106\n",
      "1    124665\n",
      "dtype: int64\n",
      "Chromosome 5\n",
      "0    768766\n",
      "1    135810\n",
      "dtype: int64\n",
      "Chromosome 6\n",
      "0    737496\n",
      "1    118079\n",
      "dtype: int64\n",
      "Chromosome 7\n",
      "0    684934\n",
      "1    110759\n",
      "dtype: int64\n",
      "Chromosome 8\n",
      "0    634882\n",
      "1     96938\n",
      "dtype: int64\n",
      "Chromosome 9\n",
      "0    616936\n",
      "1     89131\n",
      "dtype: int64\n",
      "Chromosome 10\n",
      "0    579660\n",
      "1     98013\n",
      "dtype: int64\n",
      "Chromosome 11\n",
      "0    568797\n",
      "1    106235\n",
      "dtype: int64\n",
      "Chromosome 12\n",
      "0    578069\n",
      "1     91190\n",
      "dtype: int64\n",
      "Chromosome 13\n",
      "0    514786\n",
      "1     61063\n",
      "dtype: int64\n",
      "Chromosome 14\n",
      "0    466287\n",
      "1     70460\n",
      "dtype: int64\n",
      "Chromosome 15\n",
      "0    444049\n",
      "1     68607\n",
      "dtype: int64\n",
      "Chromosome 16\n",
      "0    389411\n",
      "1     62362\n",
      "dtype: int64\n",
      "Chromosome 17\n",
      "0    336706\n",
      "1     69270\n",
      "dtype: int64\n",
      "Chromosome 18\n",
      "0    340195\n",
      "1     50191\n",
      "dtype: int64\n",
      "Chromosome 19\n",
      "0    266433\n",
      "1     29211\n",
      "dtype: int64\n",
      "Chromosome 20\n",
      "0    268504\n",
      "1     46623\n",
      "dtype: int64\n",
      "Chromosome 21\n",
      "0    221240\n",
      "1     19409\n",
      "dtype: int64\n",
      "Chromosome 22\n",
      "0    234908\n",
      "1     21614\n",
      "dtype: int64\n"
     ]
    },
    {
     "name": "stderr",
     "output_type": "stream",
     "text": [
      "/Users/albertkuo/anaconda/lib/python2.7/site-packages/IPython/kernel/__main__.py:32: SettingWithCopyWarning: \n",
      "A value is trying to be set on a copy of a slice from a DataFrame.\n",
      "Try using .loc[row_indexer,col_indexer] = value instead\n",
      "\n",
      "See the the caveats in the documentation: http://pandas.pydata.org/pandas-docs/stable/indexing.html#indexing-view-versus-copy\n"
     ]
    }
   ],
   "source": [
    "dats = []\n",
    "for chrom in range(1,23):\n",
    "    print 'Chromosome %d' %chrom\n",
    "    # Select only rows with corresponding chromosome number for both input files\n",
    "    dat = features_data[features_data['chr']==chrom] \n",
    "    d = df_add[df_add['chr']=='chr'+str(chrom)]  \n",
    "    \n",
    "    # Find overlapping intervals\n",
    "    query = zip(dat['lower'],dat['upper'])\n",
    "    data = zip(d['lower'],d['upper'])\n",
    "    \n",
    "    # Modified code from: https://www.biostars.org/p/99/\n",
    "    from quicksect import IntervalNode\n",
    "    def find(start, end, tree):\n",
    "        #Finds a list with the overlapping intervals\n",
    "        out = []\n",
    "        tree.intersect( start, end, lambda x: out.append(x) )\n",
    "        return int(not not out) #return 1 if there is an intersection\n",
    "\n",
    "    # start the root at the first element\n",
    "    start, end = data[0]\n",
    "    tree = IntervalNode( start, end )\n",
    "\n",
    "    # build an interval tree from the rest of the data\n",
    "    for start, end in data[1:]:\n",
    "        tree = tree.insert( start, end )\n",
    "\n",
    "    overlap = []\n",
    "    for start, end in query:\n",
    "        overlap.append(find(start, end , tree))\n",
    "\n",
    "    dat['tfbs'] = overlap\n",
    "    print dat['tfbs'].value_counts()\n",
    "    dats.append(dat)"
   ]
  },
  {
   "cell_type": "code",
   "execution_count": 7,
   "metadata": {
    "collapsed": true
   },
   "outputs": [],
   "source": [
    "result = pd.concat(dats)"
   ]
  },
  {
   "cell_type": "markdown",
   "metadata": {},
   "source": [
    "<h3>Write to Output file</h3>"
   ]
  },
  {
   "cell_type": "code",
   "execution_count": 8,
   "metadata": {
    "collapsed": false
   },
   "outputs": [],
   "source": [
    "new_filename = 'data/'+CELLNAME+'_features_2.txt'\n",
    "with open(new_filename, 'w') as the_file:\n",
    "    result.to_csv(the_file, sep='\\t', index=False)"
   ]
  }
 ],
 "metadata": {
  "kernelspec": {
   "display_name": "Python 2",
   "language": "python",
   "name": "python2"
  },
  "language_info": {
   "codemirror_mode": {
    "name": "ipython",
    "version": 2
   },
   "file_extension": ".py",
   "mimetype": "text/x-python",
   "name": "python",
   "nbconvert_exporter": "python",
   "pygments_lexer": "ipython2",
   "version": "2.7.9"
  }
 },
 "nbformat": 4,
 "nbformat_minor": 0
}
