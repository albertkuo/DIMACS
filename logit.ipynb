{
 "cells": [
  {
   "cell_type": "markdown",
   "metadata": {},
   "source": [
    "In this iPython notebook, we **run logistic regression**. Code is largely copied from svm_logit.ipynb, but the output here is for data including an extra feature of tfbs."
   ]
  },
  {
   "cell_type": "code",
   "execution_count": 21,
   "metadata": {
    "collapsed": true
   },
   "outputs": [],
   "source": [
    "import pandas as pd\n",
    "import numpy as np\n",
    "from sklearn import linear_model\n",
    "from sklearn import cross_validation\n",
    "from sklearn.preprocessing import PolynomialFeatures\n",
    "from scipy import stats\n",
    "import matplotlib.pyplot as plt\n",
    "%matplotlib inline"
   ]
  },
  {
   "cell_type": "markdown",
   "metadata": {},
   "source": [
    "<h3>Import data</h3>"
   ]
  },
  {
   "cell_type": "code",
   "execution_count": 22,
   "metadata": {
    "collapsed": true
   },
   "outputs": [],
   "source": [
    "CELLNAME = \"GM12878\"\n",
    "label = \"p300\""
   ]
  },
  {
   "cell_type": "code",
   "execution_count": 23,
   "metadata": {
    "collapsed": false
   },
   "outputs": [
    {
     "data": {
      "text/html": [
       "<div style=\"max-height:1000px;max-width:1500px;overflow:auto;\">\n",
       "<table border=\"1\" class=\"dataframe\">\n",
       "  <thead>\n",
       "    <tr style=\"text-align: right;\">\n",
       "      <th></th>\n",
       "      <th>chr</th>\n",
       "      <th>lower</th>\n",
       "      <th>upper</th>\n",
       "      <th>H3K27ac</th>\n",
       "      <th>H3K27me3</th>\n",
       "      <th>H3K36me3</th>\n",
       "      <th>H3K4me1</th>\n",
       "      <th>H3K4me2</th>\n",
       "      <th>H3K4me3</th>\n",
       "      <th>H3K9ac</th>\n",
       "      <th>H4K20me1</th>\n",
       "      <th>p300</th>\n",
       "      <th>eRNA</th>\n",
       "      <th>tfbs</th>\n",
       "    </tr>\n",
       "  </thead>\n",
       "  <tbody>\n",
       "    <tr>\n",
       "      <th>0</th>\n",
       "      <td> 1</td>\n",
       "      <td>   1</td>\n",
       "      <td> 200</td>\n",
       "      <td> 0</td>\n",
       "      <td> 0</td>\n",
       "      <td> 0</td>\n",
       "      <td> 0</td>\n",
       "      <td> 0</td>\n",
       "      <td> 0</td>\n",
       "      <td> 0</td>\n",
       "      <td> 0</td>\n",
       "      <td> 0</td>\n",
       "      <td> 0</td>\n",
       "      <td> 0</td>\n",
       "    </tr>\n",
       "    <tr>\n",
       "      <th>1</th>\n",
       "      <td> 1</td>\n",
       "      <td> 201</td>\n",
       "      <td> 400</td>\n",
       "      <td> 0</td>\n",
       "      <td> 0</td>\n",
       "      <td> 0</td>\n",
       "      <td> 0</td>\n",
       "      <td> 0</td>\n",
       "      <td> 0</td>\n",
       "      <td> 0</td>\n",
       "      <td> 0</td>\n",
       "      <td> 0</td>\n",
       "      <td> 0</td>\n",
       "      <td> 0</td>\n",
       "    </tr>\n",
       "  </tbody>\n",
       "</table>\n",
       "</div>"
      ],
      "text/plain": [
       "   chr  lower  upper  H3K27ac  H3K27me3  H3K36me3  H3K4me1  H3K4me2  H3K4me3  \\\n",
       "0    1      1    200        0         0         0        0        0        0   \n",
       "1    1    201    400        0         0         0        0        0        0   \n",
       "\n",
       "   H3K9ac  H4K20me1  p300  eRNA  tfbs  \n",
       "0       0         0     0     0     0  \n",
       "1       0         0     0     0     0  "
      ]
     },
     "execution_count": 23,
     "metadata": {},
     "output_type": "execute_result"
    }
   ],
   "source": [
    "data = pd.read_table('data/' + CELLNAME + '_features.txt.gz', compression='gzip')\n",
    "data.head(2)"
   ]
  },
  {
   "cell_type": "code",
   "execution_count": 24,
   "metadata": {
    "collapsed": false
   },
   "outputs": [
    {
     "name": "stdout",
     "output_type": "stream",
     "text": [
      "['H3K27ac', 'H3K27me3', 'H3K36me3', 'H3K4me1', 'H3K4me2', 'H3K4me3', 'H3K9ac', 'H4K20me1', 'eRNA', 'tfbs']\n"
     ]
    }
   ],
   "source": [
    "feature_names = list(data.columns.values)\n",
    "feature_names = feature_names[3:]\n",
    "feature_names.remove(label)\n",
    "print feature_names"
   ]
  },
  {
   "cell_type": "code",
   "execution_count": 25,
   "metadata": {
    "collapsed": false
   },
   "outputs": [
    {
     "name": "stdout",
     "output_type": "stream",
     "text": [
      "(113883, 14)\n",
      "(107085, 14)\n",
      "(220968, 14)\n"
     ]
    }
   ],
   "source": [
    "#Select positive set\n",
    "positive = data[data[label]==1]\n",
    "nrows = positive.shape[0]\n",
    "print positive.shape\n",
    "\n",
    "#Select negative set\n",
    "use_random_sampling = False \n",
    "if use_random_sampling:\n",
    "    negative = data[data[label]==0].as_matrix()\n",
    "    nrows = negative.shape[0]\n",
    "    select = np.random.choice(nrows, positive.shape[0]) # same size as positive set\n",
    "    negative = negative[select,:]\n",
    "    print negative.shape\n",
    "else: # follow distribution of positive set\n",
    "    indices = data[data[label]==1].index.values\n",
    "    diff = np.diff(indices)\n",
    "    offset = np.floor(np.mean(np.diff(indices))/2)\n",
    "    select = (indices)+offset.astype(np.int64)\n",
    "    mean_distance = np.mean(np.diff(indices))*200 # approximate value\n",
    "    negative = data.iloc[select]\n",
    "    negative = negative[negative[label]==0]\n",
    "    print negative.shape\n",
    "\n",
    "#Form sample\n",
    "sample = pd.concat([positive,negative])\n",
    "print sample.shape"
   ]
  },
  {
   "cell_type": "code",
   "execution_count": 35,
   "metadata": {
    "collapsed": false
   },
   "outputs": [
    {
     "name": "stdout",
     "output_type": "stream",
     "text": [
      "(220968, 55)\n",
      "[[0 0 0 ..., 0 0 0]\n",
      " [0 0 0 ..., 0 0 0]\n",
      " [0 0 0 ..., 0 0 0]\n",
      " ..., \n",
      " [0 0 0 ..., 0 0 0]\n",
      " [0 0 0 ..., 0 0 0]\n",
      " [0 0 0 ..., 0 0 0]]\n"
     ]
    }
   ],
   "source": [
    "X = sample.drop(['chr','lower','upper',label], axis=1).as_matrix()\n",
    "add_interactions = True\n",
    "if add_interactions:\n",
    "    X = PolynomialFeatures(interaction_only=True).fit_transform(X) \n",
    "    X = X[:,1:]\n",
    "    print X.shape\n",
    "print X"
   ]
  },
  {
   "cell_type": "code",
   "execution_count": 36,
   "metadata": {
    "collapsed": false
   },
   "outputs": [
    {
     "name": "stdout",
     "output_type": "stream",
     "text": [
      "[1 1 1 ..., 0 0 0]\n"
     ]
    }
   ],
   "source": [
    "y = sample[label].as_matrix()\n",
    "print y"
   ]
  },
  {
   "cell_type": "code",
   "execution_count": 37,
   "metadata": {
    "collapsed": false
   },
   "outputs": [
    {
     "name": "stdout",
     "output_type": "stream",
     "text": [
      "Correlation between each feature and p300 (Pearson corr coef)\n",
      "H3K27ac: 0.348285510703\n",
      "H3K27me3: 0.100417537633\n",
      "H3K36me3: 0.0763629313715\n",
      "H3K4me1: 0.332559484245\n",
      "H3K4me2: 0.386937800594\n",
      "H3K4me3: 0.354356924876\n",
      "H3K9ac: 0.300208255893\n",
      "H4K20me1: 0.118452444769\n",
      "eRNA: 0.16743502311\n",
      "tfbs: 0.0822085285811\n"
     ]
    }
   ],
   "source": [
    "print \"Correlation between each feature and %s (Pearson corr coef)\" %label\n",
    "for i in range(len(feature_names)):\n",
    "    print feature_names[i] + \": \" + \"%s\" %stats.pearsonr(X[:,i], y)[0]"
   ]
  },
  {
   "cell_type": "markdown",
   "metadata": {},
   "source": [
    "<h3>Run Logistic Regression</h3>"
   ]
  },
  {
   "cell_type": "code",
   "execution_count": 38,
   "metadata": {
    "collapsed": false
   },
   "outputs": [
    {
     "name": "stdout",
     "output_type": "stream",
     "text": [
      "0.713895449691\n",
      "[19  5 23]\n",
      "0.713913551901\n",
      "[ 5  4 19]\n",
      "0.713153278348\n",
      "[5 4 3]\n",
      "0.711139420276\n",
      "[5 4 3]\n",
      "0.705559390656\n",
      "[4 3 5]\n",
      "0.712411088368\n",
      "[4 3 5]\n"
     ]
    }
   ],
   "source": [
    "penalty_type = 'l2'\n",
    "regs = [1.0, 0.1, 0.01, 0.001, 0.0001, 0.00001]\n",
    "for reg in regs: \n",
    "    logreg = linear_model.LogisticRegression(penalty=penalty_type, C=reg)\n",
    "    logreg.fit(X,y)\n",
    "    scores = cross_validation.cross_val_score(logreg, X, y, cv=10)\n",
    "    mean_cv = sum(scores) / float(len(scores))\n",
    "    print mean_cv\n",
    "\n",
    "    coef = logreg.coef_\n",
    "    coef = [item for sublist in coef for item in sublist] #flatten list\n",
    "    coef_np = np.asarray(coef)\n",
    "    top_coef = np.argsort(-coef_np)[:3]\n",
    "    if add_interactions:\n",
    "        print np.sort(-coef_np)\n",
    "\n",
    "    #Plot\n",
    "    if not add_interactions:\n",
    "        ind = np.arange(len(feature_names))  \n",
    "        width = 0.35       \n",
    "        fig, ax = plt.subplots()\n",
    "        rects = ax.bar(ind, coef, width, color='gray')\n",
    "        for index in top_coef:\n",
    "            rects[index].set_color('b')\n",
    "        plt.xticks(range(len(feature_names)))\n",
    "        ax.set_xticklabels(feature_names,rotation=45)\n",
    "        plt.suptitle(\"Feature Coefficients (%s, C=%s)\" %(penalty_type,reg))\n",
    "        ax.annotate('CV Score = %0.4f'%mean_cv, xy=(0,1), xycoords='axes fraction', fontsize=12,\n",
    "                        xytext=(5, -5), textcoords='offset points',\n",
    "                        ha='left', va='top')\n",
    "        plt.show()"
   ]
  },
  {
   "cell_type": "markdown",
   "metadata": {},
   "source": [
    "Elastic Net (learned with Stochastic Gradient Descent) [unfinished work]"
   ]
  },
  {
   "cell_type": "code",
   "execution_count": null,
   "metadata": {
    "collapsed": true
   },
   "outputs": [],
   "source": [
    "from sklearn import linear_model\n",
    "from sklearn import cross_validation\n",
    "logregen = linear_model.SGDClassifier(loss='log', penalty='elasticnet', alpha=0.0001, l1_ratio=0.15)\n",
    "logregen.fit(X,y)\n",
    "print cross_validation.cross_val_score(logregen, X, y, cv=10)"
   ]
  }
 ],
 "metadata": {
  "kernelspec": {
   "display_name": "Python 2",
   "language": "python",
   "name": "python2"
  },
  "language_info": {
   "codemirror_mode": {
    "name": "ipython",
    "version": 2
   },
   "file_extension": ".py",
   "mimetype": "text/x-python",
   "name": "python",
   "nbconvert_exporter": "python",
   "pygments_lexer": "ipython2",
   "version": "2.7.9"
  }
 },
 "nbformat": 4,
 "nbformat_minor": 0
}
