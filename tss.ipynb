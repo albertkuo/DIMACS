{
 "cells": [
  {
   "cell_type": "markdown",
   "metadata": {},
   "source": [
    "In this iPython notebook, the **distance to the closest TSS** was determined for each genome section."
   ]
  },
  {
   "cell_type": "markdown",
   "metadata": {},
   "source": [
    "<h3>Import data</h3>"
   ]
  },
  {
   "cell_type": "code",
   "execution_count": 2,
   "metadata": {
    "collapsed": true
   },
   "outputs": [],
   "source": [
    "import pandas as pd"
   ]
  },
  {
   "cell_type": "code",
   "execution_count": 42,
   "metadata": {
    "collapsed": false
   },
   "outputs": [
    {
     "data": {
      "text/html": [
       "<div style=\"max-height:1000px;max-width:1500px;overflow:auto;\">\n",
       "<table border=\"1\" class=\"dataframe\">\n",
       "  <thead>\n",
       "    <tr style=\"text-align: right;\">\n",
       "      <th></th>\n",
       "      <th>chr</th>\n",
       "      <th>lower</th>\n",
       "      <th>upper</th>\n",
       "      <th>state</th>\n",
       "      <th>middle</th>\n",
       "    </tr>\n",
       "  </thead>\n",
       "  <tbody>\n",
       "    <tr>\n",
       "      <th>0</th>\n",
       "      <td> chr10</td>\n",
       "      <td>      0</td>\n",
       "      <td> 119800</td>\n",
       "      <td> E18</td>\n",
       "      <td>  59900</td>\n",
       "    </tr>\n",
       "    <tr>\n",
       "      <th>1</th>\n",
       "      <td> chr10</td>\n",
       "      <td> 119800</td>\n",
       "      <td> 120400</td>\n",
       "      <td> E11</td>\n",
       "      <td> 120100</td>\n",
       "    </tr>\n",
       "    <tr>\n",
       "      <th>2</th>\n",
       "      <td> chr10</td>\n",
       "      <td> 120400</td>\n",
       "      <td> 122200</td>\n",
       "      <td> E18</td>\n",
       "      <td> 121300</td>\n",
       "    </tr>\n",
       "    <tr>\n",
       "      <th>3</th>\n",
       "      <td> chr10</td>\n",
       "      <td> 122200</td>\n",
       "      <td> 122800</td>\n",
       "      <td> E11</td>\n",
       "      <td> 122500</td>\n",
       "    </tr>\n",
       "    <tr>\n",
       "      <th>4</th>\n",
       "      <td> chr10</td>\n",
       "      <td> 122800</td>\n",
       "      <td> 173400</td>\n",
       "      <td> E18</td>\n",
       "      <td> 148100</td>\n",
       "    </tr>\n",
       "  </tbody>\n",
       "</table>\n",
       "</div>"
      ],
      "text/plain": [
       "     chr   lower   upper state  middle\n",
       "0  chr10       0  119800   E18   59900\n",
       "1  chr10  119800  120400   E11  120100\n",
       "2  chr10  120400  122200   E18  121300\n",
       "3  chr10  122200  122800   E11  122500\n",
       "4  chr10  122800  173400   E18  148100"
      ]
     },
     "execution_count": 42,
     "metadata": {},
     "output_type": "execute_result"
    }
   ],
   "source": [
    "es = pd.read_table('Spectacle/OUTPUTSAMPLE_HG19_NEW/GM12878_20_spectral_segments.bed',header=None)\n",
    "es.columns = ['chr','lower','upper','state']\n",
    "es['middle'] = (es['lower']+es['upper'])/2\n",
    "es.head()"
   ]
  },
  {
   "cell_type": "code",
   "execution_count": 7,
   "metadata": {
    "collapsed": false
   },
   "outputs": [
    {
     "data": {
      "text/html": [
       "<div style=\"max-height:1000px;max-width:1500px;overflow:auto;\">\n",
       "<table border=\"1\" class=\"dataframe\">\n",
       "  <thead>\n",
       "    <tr style=\"text-align: right;\">\n",
       "      <th></th>\n",
       "      <th>chr</th>\n",
       "      <th>pos</th>\n",
       "    </tr>\n",
       "  </thead>\n",
       "  <tbody>\n",
       "    <tr>\n",
       "      <th>0</th>\n",
       "      <td> chr10</td>\n",
       "      <td> 100206638</td>\n",
       "    </tr>\n",
       "    <tr>\n",
       "      <th>1</th>\n",
       "      <td> chr10</td>\n",
       "      <td> 101190418</td>\n",
       "    </tr>\n",
       "    <tr>\n",
       "      <th>2</th>\n",
       "      <td> chr10</td>\n",
       "      <td> 101380137</td>\n",
       "    </tr>\n",
       "    <tr>\n",
       "      <th>3</th>\n",
       "      <td> chr10</td>\n",
       "      <td> 101419240</td>\n",
       "    </tr>\n",
       "    <tr>\n",
       "      <th>4</th>\n",
       "      <td> chr10</td>\n",
       "      <td> 101491857</td>\n",
       "    </tr>\n",
       "  </tbody>\n",
       "</table>\n",
       "</div>"
      ],
      "text/plain": [
       "     chr        pos\n",
       "0  chr10  100206638\n",
       "1  chr10  101190418\n",
       "2  chr10  101380137\n",
       "3  chr10  101419240\n",
       "4  chr10  101491857"
      ]
     },
     "execution_count": 7,
     "metadata": {},
     "output_type": "execute_result"
    }
   ],
   "source": [
    "tss = pd.read_table('GM12878_Gencode_TSS.hg19.txt.gz', compression = 'gzip', header=None)\n",
    "tss.columns = ['chr','pos']\n",
    "tss.head()"
   ]
  },
  {
   "cell_type": "markdown",
   "metadata": {},
   "source": [
    "<h3>Find closest distance</h3>"
   ]
  },
  {
   "cell_type": "code",
   "execution_count": 36,
   "metadata": {
    "collapsed": true
   },
   "outputs": [],
   "source": [
    "# Code from http://stackoverflow.com/questions/12141150/from-list-of-integers-get-number-closest-to-a-given-value\n",
    "from bisect import bisect_left\n",
    "\n",
    "def takeClosest(myList, myNumber):\n",
    "    \"\"\"\n",
    "    Assumes myList is sorted. Returns closest distance to myNumber.\n",
    "\n",
    "    If two numbers are equally close, return the smallest number.\n",
    "    \"\"\"\n",
    "    pos = bisect_left(myList, myNumber)\n",
    "    if pos == 0:\n",
    "        return abs(myList[0] - myNumber)\n",
    "    if pos == len(myList):\n",
    "        return abs(myList[-1] - myNumber)\n",
    "    before = myList[pos - 1]\n",
    "    after = myList[pos]\n",
    "    if after - myNumber < myNumber - before:\n",
    "       return abs(after - myNumber)\n",
    "    else:\n",
    "       return abs(before - myNumber)"
   ]
  },
  {
   "cell_type": "code",
   "execution_count": 43,
   "metadata": {
    "collapsed": false
   },
   "outputs": [
    {
     "name": "stdout",
     "output_type": "stream",
     "text": [
      "chr1\n",
      "chr10\n",
      "chr11\n",
      "chr12\n",
      "chr13\n",
      "chr14\n",
      "chr15\n",
      "chr16\n",
      "chr17\n",
      "chr18\n",
      "chr19\n",
      "chr2\n",
      "chr20\n",
      "chr21\n",
      "chr22\n",
      "chr3\n",
      "chr4\n",
      "chr5\n",
      "chr6\n",
      "chr7\n",
      "chr8\n",
      "chr9\n"
     ]
    }
   ],
   "source": [
    "# Separate into chromatin groups and find closest distance to tss\n",
    "groups = es.groupby('chr')\n",
    "for name, group in groups:\n",
    "    print name\n",
    "    t = tss[tss['chr']==name]\n",
    "    es.loc[es['chr']==name, 'distance'] = group['middle'].apply(lambda num: takeClosest(t['pos'].tolist(), num))"
   ]
  },
  {
   "cell_type": "code",
   "execution_count": 44,
   "metadata": {
    "collapsed": false
   },
   "outputs": [
    {
     "data": {
      "text/html": [
       "<div style=\"max-height:1000px;max-width:1500px;overflow:auto;\">\n",
       "<table border=\"1\" class=\"dataframe\">\n",
       "  <thead>\n",
       "    <tr style=\"text-align: right;\">\n",
       "      <th></th>\n",
       "      <th>chr</th>\n",
       "      <th>lower</th>\n",
       "      <th>upper</th>\n",
       "      <th>state</th>\n",
       "      <th>middle</th>\n",
       "      <th>distance</th>\n",
       "    </tr>\n",
       "  </thead>\n",
       "  <tbody>\n",
       "    <tr>\n",
       "      <th>0</th>\n",
       "      <td> chr10</td>\n",
       "      <td>      0</td>\n",
       "      <td> 119800</td>\n",
       "      <td> E18</td>\n",
       "      <td>  59900</td>\n",
       "      <td> 100146738</td>\n",
       "    </tr>\n",
       "    <tr>\n",
       "      <th>1</th>\n",
       "      <td> chr10</td>\n",
       "      <td> 119800</td>\n",
       "      <td> 120400</td>\n",
       "      <td> E11</td>\n",
       "      <td> 120100</td>\n",
       "      <td> 100086538</td>\n",
       "    </tr>\n",
       "    <tr>\n",
       "      <th>2</th>\n",
       "      <td> chr10</td>\n",
       "      <td> 120400</td>\n",
       "      <td> 122200</td>\n",
       "      <td> E18</td>\n",
       "      <td> 121300</td>\n",
       "      <td> 100085338</td>\n",
       "    </tr>\n",
       "    <tr>\n",
       "      <th>3</th>\n",
       "      <td> chr10</td>\n",
       "      <td> 122200</td>\n",
       "      <td> 122800</td>\n",
       "      <td> E11</td>\n",
       "      <td> 122500</td>\n",
       "      <td> 100084138</td>\n",
       "    </tr>\n",
       "    <tr>\n",
       "      <th>4</th>\n",
       "      <td> chr10</td>\n",
       "      <td> 122800</td>\n",
       "      <td> 173400</td>\n",
       "      <td> E18</td>\n",
       "      <td> 148100</td>\n",
       "      <td> 100058538</td>\n",
       "    </tr>\n",
       "  </tbody>\n",
       "</table>\n",
       "</div>"
      ],
      "text/plain": [
       "     chr   lower   upper state  middle   distance\n",
       "0  chr10       0  119800   E18   59900  100146738\n",
       "1  chr10  119800  120400   E11  120100  100086538\n",
       "2  chr10  120400  122200   E18  121300  100085338\n",
       "3  chr10  122200  122800   E11  122500  100084138\n",
       "4  chr10  122800  173400   E18  148100  100058538"
      ]
     },
     "execution_count": 44,
     "metadata": {},
     "output_type": "execute_result"
    }
   ],
   "source": [
    "es.head()"
   ]
  },
  {
   "cell_type": "markdown",
   "metadata": {},
   "source": [
    "<h3>Write output file</h3>"
   ]
  },
  {
   "cell_type": "code",
   "execution_count": 45,
   "metadata": {
    "collapsed": false
   },
   "outputs": [],
   "source": [
    "new_filename = \"GM12878_\"+'tss'+\".txt\"\n",
    "with open(new_filename, 'w') as the_file:\n",
    "    es.to_csv(the_file, sep='\\t', index=False)"
   ]
  }
 ],
 "metadata": {
  "kernelspec": {
   "display_name": "Python 2",
   "language": "python",
   "name": "python2"
  },
  "language_info": {
   "codemirror_mode": {
    "name": "ipython",
    "version": 2
   },
   "file_extension": ".py",
   "mimetype": "text/x-python",
   "name": "python",
   "nbconvert_exporter": "python",
   "pygments_lexer": "ipython2",
   "version": "2.7.9"
  }
 },
 "nbformat": 4,
 "nbformat_minor": 0
}
